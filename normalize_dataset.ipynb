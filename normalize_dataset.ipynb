{
 "cells": [
  {
   "cell_type": "code",
   "execution_count": 1,
   "metadata": {},
   "outputs": [
    {
     "name": "stdout",
     "output_type": "stream",
     "text": [
      "Requirement already satisfied: seaborn in /Users/giovanni/.miniconda3/envs/hackathonlugano2024-p10/lib/python3.10/site-packages (0.13.2)\n",
      "Requirement already satisfied: numpy!=1.24.0,>=1.20 in /Users/giovanni/.miniconda3/envs/hackathonlugano2024-p10/lib/python3.10/site-packages (from seaborn) (1.26.4)\n",
      "Requirement already satisfied: pandas>=1.2 in /Users/giovanni/.miniconda3/envs/hackathonlugano2024-p10/lib/python3.10/site-packages (from seaborn) (2.2.3)\n",
      "Requirement already satisfied: matplotlib!=3.6.1,>=3.4 in /Users/giovanni/.miniconda3/envs/hackathonlugano2024-p10/lib/python3.10/site-packages (from seaborn) (3.9.2)\n",
      "Requirement already satisfied: contourpy>=1.0.1 in /Users/giovanni/.miniconda3/envs/hackathonlugano2024-p10/lib/python3.10/site-packages (from matplotlib!=3.6.1,>=3.4->seaborn) (1.3.0)\n",
      "Requirement already satisfied: cycler>=0.10 in /Users/giovanni/.miniconda3/envs/hackathonlugano2024-p10/lib/python3.10/site-packages (from matplotlib!=3.6.1,>=3.4->seaborn) (0.12.1)\n",
      "Requirement already satisfied: fonttools>=4.22.0 in /Users/giovanni/.miniconda3/envs/hackathonlugano2024-p10/lib/python3.10/site-packages (from matplotlib!=3.6.1,>=3.4->seaborn) (4.54.1)\n",
      "Requirement already satisfied: kiwisolver>=1.3.1 in /Users/giovanni/.miniconda3/envs/hackathonlugano2024-p10/lib/python3.10/site-packages (from matplotlib!=3.6.1,>=3.4->seaborn) (1.4.7)\n",
      "Requirement already satisfied: packaging>=20.0 in /Users/giovanni/.miniconda3/envs/hackathonlugano2024-p10/lib/python3.10/site-packages (from matplotlib!=3.6.1,>=3.4->seaborn) (24.1)\n",
      "Requirement already satisfied: pillow>=8 in /Users/giovanni/.miniconda3/envs/hackathonlugano2024-p10/lib/python3.10/site-packages (from matplotlib!=3.6.1,>=3.4->seaborn) (11.0.0)\n",
      "Requirement already satisfied: pyparsing>=2.3.1 in /Users/giovanni/.miniconda3/envs/hackathonlugano2024-p10/lib/python3.10/site-packages (from matplotlib!=3.6.1,>=3.4->seaborn) (3.2.0)\n",
      "Requirement already satisfied: python-dateutil>=2.7 in /Users/giovanni/.miniconda3/envs/hackathonlugano2024-p10/lib/python3.10/site-packages (from matplotlib!=3.6.1,>=3.4->seaborn) (2.9.0.post0)\n",
      "Requirement already satisfied: pytz>=2020.1 in /Users/giovanni/.miniconda3/envs/hackathonlugano2024-p10/lib/python3.10/site-packages (from pandas>=1.2->seaborn) (2024.1)\n",
      "Requirement already satisfied: tzdata>=2022.7 in /Users/giovanni/.miniconda3/envs/hackathonlugano2024-p10/lib/python3.10/site-packages (from pandas>=1.2->seaborn) (2024.2)\n",
      "Requirement already satisfied: six>=1.5 in /Users/giovanni/.miniconda3/envs/hackathonlugano2024-p10/lib/python3.10/site-packages (from python-dateutil>=2.7->matplotlib!=3.6.1,>=3.4->seaborn) (1.16.0)\n"
     ]
    }
   ],
   "source": [
    "! pip install seaborn"
   ]
  },
  {
   "cell_type": "code",
   "execution_count": 2,
   "metadata": {},
   "outputs": [],
   "source": [
    "import pandas as pd\n",
    "import joblib\n",
    "from bs4 import BeautifulSoup\n",
    "import os\n",
    "import re\n",
    "import numpy as np"
   ]
  },
  {
   "cell_type": "code",
   "execution_count": 3,
   "metadata": {},
   "outputs": [],
   "source": [
    "DATASET_PATH = \"../dataset/dataset.csv\""
   ]
  },
  {
   "cell_type": "code",
   "execution_count": 4,
   "metadata": {},
   "outputs": [
    {
     "data": {
      "text/html": [
       "<div>\n",
       "<style scoped>\n",
       "    .dataframe tbody tr th:only-of-type {\n",
       "        vertical-align: middle;\n",
       "    }\n",
       "\n",
       "    .dataframe tbody tr th {\n",
       "        vertical-align: top;\n",
       "    }\n",
       "\n",
       "    .dataframe thead th {\n",
       "        text-align: right;\n",
       "    }\n",
       "</style>\n",
       "<table border=\"1\" class=\"dataframe\">\n",
       "  <thead>\n",
       "    <tr style=\"text-align: right;\">\n",
       "      <th></th>\n",
       "      <th>source_text</th>\n",
       "      <th>locale</th>\n",
       "      <th>language</th>\n",
       "      <th>split</th>\n",
       "      <th>privacy_mask</th>\n",
       "      <th>uid</th>\n",
       "      <th>masked_text</th>\n",
       "      <th>mbert_tokens</th>\n",
       "      <th>mbert_token_classes</th>\n",
       "    </tr>\n",
       "  </thead>\n",
       "  <tbody>\n",
       "    <tr>\n",
       "      <th>0</th>\n",
       "      <td>&lt;p&gt;Rapport de Réclamation&lt;br&gt;Nom : Mtre Paljor...</td>\n",
       "      <td>FR</td>\n",
       "      <td>fr</td>\n",
       "      <td>train</td>\n",
       "      <td>[{'label': 'SURNAME', 'start': 40, 'end': 46, ...</td>\n",
       "      <td>222952</td>\n",
       "      <td>&lt;p&gt;Rapport de Réclamation&lt;br&gt;Nom : Mtre [SURNA...</td>\n",
       "      <td>['&lt;', 'p', '&gt;', 'Rapport', 'de', 'R', '##éc', ...</td>\n",
       "      <td>['O', 'O', 'O', 'O', 'O', 'O', 'O', 'O', 'O', ...</td>\n",
       "    </tr>\n",
       "    <tr>\n",
       "      <th>1</th>\n",
       "      <td>&lt;p&gt;Rapport de Réclamation&lt;br&gt;Nom : Monsieur Lo...</td>\n",
       "      <td>FR</td>\n",
       "      <td>fr</td>\n",
       "      <td>train</td>\n",
       "      <td>[{'label': 'SURNAME', 'start': 44, 'end': 52, ...</td>\n",
       "      <td>222955</td>\n",
       "      <td>&lt;p&gt;Rapport de Réclamation&lt;br&gt;Nom : Monsieur [S...</td>\n",
       "      <td>['&lt;', 'p', '&gt;', 'Rapport', 'de', 'R', '##éc', ...</td>\n",
       "      <td>['O', 'O', 'O', 'O', 'O', 'O', 'O', 'O', 'O', ...</td>\n",
       "    </tr>\n",
       "    <tr>\n",
       "      <th>2</th>\n",
       "      <td>&lt;p&gt;Rapport de Réclamation&lt;br&gt;Nom : Monsieur Ru...</td>\n",
       "      <td>FR</td>\n",
       "      <td>fr</td>\n",
       "      <td>train</td>\n",
       "      <td>[{'label': 'SURNAME', 'start': 44, 'end': 48, ...</td>\n",
       "      <td>222957</td>\n",
       "      <td>&lt;p&gt;Rapport de Réclamation&lt;br&gt;Nom : Monsieur [S...</td>\n",
       "      <td>['&lt;', 'p', '&gt;', 'Rapport', 'de', 'R', '##éc', ...</td>\n",
       "      <td>['O', 'O', 'O', 'O', 'O', 'O', 'O', 'O', 'O', ...</td>\n",
       "    </tr>\n",
       "    <tr>\n",
       "      <th>3</th>\n",
       "      <td>&lt;p&gt;Rapport de Réclamation&lt;br&gt;Nom : Mairesse Br...</td>\n",
       "      <td>FR</td>\n",
       "      <td>fr</td>\n",
       "      <td>train</td>\n",
       "      <td>[{'label': 'SURNAME', 'start': 44, 'end': 51, ...</td>\n",
       "      <td>222960</td>\n",
       "      <td>&lt;p&gt;Rapport de Réclamation&lt;br&gt;Nom : Mairesse [S...</td>\n",
       "      <td>['&lt;', 'p', '&gt;', 'Rapport', 'de', 'R', '##éc', ...</td>\n",
       "      <td>['O', 'O', 'O', 'O', 'O', 'O', 'O', 'O', 'O', ...</td>\n",
       "    </tr>\n",
       "    <tr>\n",
       "      <th>4</th>\n",
       "      <td>&lt;p&gt;Rapport de Réclamation&lt;br&gt;Nom : Mtre Moser-...</td>\n",
       "      <td>FR</td>\n",
       "      <td>fr</td>\n",
       "      <td>train</td>\n",
       "      <td>[{'label': 'SURNAME', 'start': 40, 'end': 54, ...</td>\n",
       "      <td>222962</td>\n",
       "      <td>&lt;p&gt;Rapport de Réclamation&lt;br&gt;Nom : Mtre [SURNA...</td>\n",
       "      <td>['&lt;', 'p', '&gt;', 'Rapport', 'de', 'R', '##éc', ...</td>\n",
       "      <td>['O', 'O', 'O', 'O', 'O', 'O', 'O', 'O', 'O', ...</td>\n",
       "    </tr>\n",
       "  </tbody>\n",
       "</table>\n",
       "</div>"
      ],
      "text/plain": [
       "                                         source_text locale language  split  \\\n",
       "0  <p>Rapport de Réclamation<br>Nom : Mtre Paljor...     FR       fr  train   \n",
       "1  <p>Rapport de Réclamation<br>Nom : Monsieur Lo...     FR       fr  train   \n",
       "2  <p>Rapport de Réclamation<br>Nom : Monsieur Ru...     FR       fr  train   \n",
       "3  <p>Rapport de Réclamation<br>Nom : Mairesse Br...     FR       fr  train   \n",
       "4  <p>Rapport de Réclamation<br>Nom : Mtre Moser-...     FR       fr  train   \n",
       "\n",
       "                                        privacy_mask     uid  \\\n",
       "0  [{'label': 'SURNAME', 'start': 40, 'end': 46, ...  222952   \n",
       "1  [{'label': 'SURNAME', 'start': 44, 'end': 52, ...  222955   \n",
       "2  [{'label': 'SURNAME', 'start': 44, 'end': 48, ...  222957   \n",
       "3  [{'label': 'SURNAME', 'start': 44, 'end': 51, ...  222960   \n",
       "4  [{'label': 'SURNAME', 'start': 40, 'end': 54, ...  222962   \n",
       "\n",
       "                                         masked_text  \\\n",
       "0  <p>Rapport de Réclamation<br>Nom : Mtre [SURNA...   \n",
       "1  <p>Rapport de Réclamation<br>Nom : Monsieur [S...   \n",
       "2  <p>Rapport de Réclamation<br>Nom : Monsieur [S...   \n",
       "3  <p>Rapport de Réclamation<br>Nom : Mairesse [S...   \n",
       "4  <p>Rapport de Réclamation<br>Nom : Mtre [SURNA...   \n",
       "\n",
       "                                        mbert_tokens  \\\n",
       "0  ['<', 'p', '>', 'Rapport', 'de', 'R', '##éc', ...   \n",
       "1  ['<', 'p', '>', 'Rapport', 'de', 'R', '##éc', ...   \n",
       "2  ['<', 'p', '>', 'Rapport', 'de', 'R', '##éc', ...   \n",
       "3  ['<', 'p', '>', 'Rapport', 'de', 'R', '##éc', ...   \n",
       "4  ['<', 'p', '>', 'Rapport', 'de', 'R', '##éc', ...   \n",
       "\n",
       "                                 mbert_token_classes  \n",
       "0  ['O', 'O', 'O', 'O', 'O', 'O', 'O', 'O', 'O', ...  \n",
       "1  ['O', 'O', 'O', 'O', 'O', 'O', 'O', 'O', 'O', ...  \n",
       "2  ['O', 'O', 'O', 'O', 'O', 'O', 'O', 'O', 'O', ...  \n",
       "3  ['O', 'O', 'O', 'O', 'O', 'O', 'O', 'O', 'O', ...  \n",
       "4  ['O', 'O', 'O', 'O', 'O', 'O', 'O', 'O', 'O', ...  "
      ]
     },
     "execution_count": 4,
     "metadata": {},
     "output_type": "execute_result"
    }
   ],
   "source": [
    "# load dataset\n",
    "df = pd.read_csv(DATASET_PATH)\n",
    "\n",
    "if 'Unnamed: 0' in df.columns:\n",
    "    del df['Unnamed: 0']\n",
    "\n",
    "df.head()"
   ]
  },
  {
   "cell_type": "code",
   "execution_count": 5,
   "metadata": {},
   "outputs": [
    {
     "data": {
      "text/plain": [
       "261626"
      ]
     },
     "execution_count": 5,
     "metadata": {},
     "output_type": "execute_result"
    }
   ],
   "source": [
    "len(df)"
   ]
  },
  {
   "cell_type": "code",
   "execution_count": 6,
   "metadata": {},
   "outputs": [
    {
     "data": {
      "text/plain": [
       "261555"
      ]
     },
     "execution_count": 6,
     "metadata": {},
     "output_type": "execute_result"
    }
   ],
   "source": [
    "def normalize(text):\n",
    "    if pd.notnull(text) == False or text.strip() == '':\n",
    "        return np.nan\n",
    "    text = re.sub(r'\\s+', ' ', text)\n",
    "    return text\n",
    "\n",
    "# normalize spaces in the 'source_text' column\n",
    "df['source_text'] = df['source_text'].apply(normalize)\n",
    "\n",
    "df[\"source_text\"] = df[\"source_text\"].drop_duplicates()\n",
    "df.dropna(subset=[\"source_text\"], inplace=True)\n",
    "len(df)"
   ]
  },
  {
   "cell_type": "code",
   "execution_count": 7,
   "metadata": {},
   "outputs": [],
   "source": [
    "# remove html tags\n",
    "def remove_html_tags(text):\n",
    "    soup = BeautifulSoup(text, 'html.parser')\n",
    "    return soup.get_text()"
   ]
  },
  {
   "cell_type": "code",
   "execution_count": 8,
   "metadata": {},
   "outputs": [
    {
     "name": "stderr",
     "output_type": "stream",
     "text": [
      "/var/folders/pn/z89vhgwn5_l3hxsht3yldv8m0000gn/T/ipykernel_31998/3735053148.py:3: MarkupResemblesLocatorWarning: The input looks more like a filename than markup. You may want to open this file and pass the filehandle into Beautiful Soup.\n",
      "  soup = BeautifulSoup(text, 'html.parser')\n"
     ]
    },
    {
     "name": "stdout",
     "output_type": "stream",
     "text": [
      "0    Rapport de RéclamationNom : Mtre PaljorNuméro ...\n",
      "1    Rapport de RéclamationNom : Monsieur LongsterN...\n",
      "2    Rapport de RéclamationNom : Monsieur RubyNumér...\n",
      "3    Rapport de RéclamationNom : Mairesse BrönnerNu...\n",
      "4    Rapport de RéclamationNom : Mtre Moser-Nydegge...\n",
      "Name: source_text, dtype: object\n"
     ]
    }
   ],
   "source": [
    "# remove html tags from the 'source_text' column\n",
    "df['source_text'] = df['source_text'].apply(lambda text: remove_html_tags(text) if pd.notnull(text) else text)\n",
    "print(df['source_text'].head())"
   ]
  },
  {
   "cell_type": "code",
   "execution_count": 9,
   "metadata": {},
   "outputs": [
    {
     "data": {
      "image/png": "[encoded data removed]",
      "text/plain": [
       "<Figure size 640x480 with 1 Axes>"
      ]
     },
     "metadata": {},
     "output_type": "display_data"
    }
   ],
   "source": [
    "import seaborn as sns\n",
    "import matplotlib.pyplot as plt\n",
    "\n",
    "sns.set(style=\"whitegrid\")\n",
    "\n",
    "df[\"text_len\"] = df[\"source_text\"].apply(lambda x: len(x.split()))\n",
    "\n",
    "# boxplot for tain set, label 1\n",
    "df[\"text_len\"].plot(kind=\"box\")\n",
    "\n",
    "plt.show()"
   ]
  },
  {
   "cell_type": "code",
   "execution_count": 10,
   "metadata": {},
   "outputs": [
    {
     "data": {
      "text/plain": [
       "count    261555.000000\n",
       "mean         19.306964\n",
       "std           7.160342\n",
       "min           0.000000\n",
       "25%          14.000000\n",
       "50%          18.000000\n",
       "75%          23.000000\n",
       "max          78.000000\n",
       "Name: text_len, dtype: float64"
      ]
     },
     "execution_count": 10,
     "metadata": {},
     "output_type": "execute_result"
    }
   ],
   "source": [
    "df[\"text_len\"].describe()"
   ]
  },
  {
   "cell_type": "code",
   "execution_count": 11,
   "metadata": {},
   "outputs": [],
   "source": [
    "# from numpy import percentile\n",
    "\n",
    "\n",
    "# # calculate interquartile range\n",
    "# q25, q75 = percentile(df[\"text_len\"], 25), percentile(df[\"text_len\"], 75)\n",
    "# iqr = q75 - q25\n",
    "# print(\"Percentiles: 25th=%.3f, 75th=%.3f, IQR=%.3f\" % (q25, q75, iqr))\n",
    "\n",
    "# # outlier cutoff\n",
    "# cut_off = iqr * 1.5\n",
    "# lower, upper = q25 - cut_off, q75 + cut_off\n",
    "\n",
    "# # remove outliers\n",
    "# def is_outlier(val):\n",
    "#     return val < lower or val > upper\n",
    "\n",
    "# df[\"is_outlier\"] = df['text_len'].apply(is_outlier)\n",
    "\n",
    "# print(\"Num. outliers:\", len(df.query(\"is_outlier\")))\n",
    "# print(\"Num. non-outliers:\",  len(df.query(\"~is_outlier\")))"
   ]
  },
  {
   "cell_type": "code",
   "execution_count": 12,
   "metadata": {},
   "outputs": [],
   "source": [
    "df.to_csv(\"assets/dataset_normalized.csv\", index=False)"
   ]
  },
  {
   "cell_type": "code",
   "execution_count": null,
   "metadata": {},
   "outputs": [],
   "source": []
  }
 ],
 "metadata": {
  "kernelspec": {
   "display_name": "hackathonlugano2024-p10",
   "language": "python",
   "name": "python3"
  },
  "language_info": {
   "codemirror_mode": {
    "name": "ipython",
    "version": 3
   },
   "file_extension": ".py",
   "mimetype": "text/x-python",
   "name": "python",
   "nbconvert_exporter": "python",
   "pygments_lexer": "ipython3",
   "version": "3.10.15"
  }
 },
 "nbformat": 4,
 "nbformat_minor": 2
}
